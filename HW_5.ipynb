{
 "cells": [
  {
   "cell_type": "code",
   "execution_count": 77,
   "id": "15585bc5",
   "metadata": {},
   "outputs": [],
   "source": [
    "import pandas as pd\n",
    "import numpy as np\n",
    "import matplotlib.pyplot as plt\n",
    "import tensorflow as tf\n",
    "from tensorflow import keras\n",
    "import os\n",
    "from sklearn.model_selection import train_test_split\n",
    "from sklearn.preprocessing import LabelEncoder\n",
    "from sklearn.manifold import TSNE"
   ]
  },
  {
   "cell_type": "code",
   "execution_count": 295,
   "id": "2d1f0bfe",
   "metadata": {},
   "outputs": [],
   "source": [
    "folder_path = '/Users/Viktoryia/Documents/gb/computer_vision/archive/lfw-deepfunneled/lfw-deepfunneled'\n",
    "csv_path = '/Users/Viktoryia/Documents/gb/computer_vision/archive/'"
   ]
  },
  {
   "cell_type": "code",
   "execution_count": 296,
   "id": "ca4a6337",
   "metadata": {},
   "outputs": [],
   "source": [
    "csv_dict = {}\n",
    "for file in os.listdir(csv_path):\n",
    "    if file.split('.')[-1] == 'csv':\n",
    "        name = str(file.split('.')[0])\n",
    "        csv_dict[name] = pd.read_csv('/Users/Viktoryia/Documents/gb/computer_vision/archive/' + file)\n",
    "                "
   ]
  },
  {
   "cell_type": "code",
   "execution_count": 297,
   "id": "0ce7c04c",
   "metadata": {},
   "outputs": [
    {
     "data": {
      "text/plain": [
       "dict_keys(['pairs', 'matchpairsDevTest', 'people', 'lfw_readme', 'peopleDevTest', 'mismatchpairsDevTrain', 'matchpairsDevTrain', 'mismatchpairsDevTest', 'lfw_allnames', 'peopleDevTrain'])"
      ]
     },
     "execution_count": 297,
     "metadata": {},
     "output_type": "execute_result"
    }
   ],
   "source": [
    "csv_dict.keys()"
   ]
  },
  {
   "cell_type": "code",
   "execution_count": 298,
   "id": "64620ced",
   "metadata": {},
   "outputs": [
    {
     "data": {
      "text/plain": [
       "(5749, 2)"
      ]
     },
     "execution_count": 298,
     "metadata": {},
     "output_type": "execute_result"
    }
   ],
   "source": [
    "lfw_allnames = csv_dict.get('lfw_allnames')\n",
    "lfw_allnames.shape"
   ]
  },
  {
   "cell_type": "code",
   "execution_count": 299,
   "id": "2e3aa2c9",
   "metadata": {},
   "outputs": [
    {
     "data": {
      "text/plain": [
       "AJ_Cook               1\n",
       "Michelle_Hofland      1\n",
       "Miguel_Jimenez        1\n",
       "Miguel_Hakim          1\n",
       "Miguel_Estrada        1\n",
       "                     ..\n",
       "Gina_Gershon          1\n",
       "Gina_Centrello        1\n",
       "Gillian_Anderson      1\n",
       "Gilles_Panizzi        1\n",
       "Zydrunas_Ilgauskas    1\n",
       "Name: name, Length: 5749, dtype: int64"
      ]
     },
     "execution_count": 299,
     "metadata": {},
     "output_type": "execute_result"
    }
   ],
   "source": [
    "lfw_allnames.name.value_counts()"
   ]
  },
  {
   "cell_type": "code",
   "execution_count": 300,
   "id": "4ff42584",
   "metadata": {},
   "outputs": [
    {
     "data": {
      "text/plain": [
       "5750"
      ]
     },
     "execution_count": 300,
     "metadata": {},
     "output_type": "execute_result"
    }
   ],
   "source": [
    "len(os.listdir(folder_path))"
   ]
  },
  {
   "cell_type": "code",
   "execution_count": 321,
   "id": "a19684af",
   "metadata": {},
   "outputs": [
    {
     "data": {
      "text/plain": [
       "'/Users/Viktoryia/Documents/gb/computer_vision/archive/lfw-deepfunneled/lfw-deepfunneled/.DS_Store'"
      ]
     },
     "execution_count": 321,
     "metadata": {},
     "output_type": "execute_result"
    }
   ],
   "source": [
    "# Достаем пути к файлам\n",
    "pathes = []\n",
    "for root, dir, files in os.walk(folder_path):\n",
    "    for file in files:\n",
    "        pathes.append(os.path.join(root, file))\n",
    "\n",
    "pathes.pop(0)  \n"
   ]
  },
  {
   "cell_type": "code",
   "execution_count": 333,
   "id": "6c6f6659",
   "metadata": {},
   "outputs": [],
   "source": [
    "# вытаскиваем имена\n",
    "names = []\n",
    "for i in pathes:\n",
    "    name = i.split('/')[-1].split('.')[0].split('_')[0] + ' ' + i.split('/')[-1].split('.')[0].split('_')[1]\n",
    "    names.append(name)"
   ]
  },
  {
   "cell_type": "code",
   "execution_count": 341,
   "id": "6f01ea21",
   "metadata": {},
   "outputs": [
    {
     "data": {
      "text/html": [
       "<div>\n",
       "<style scoped>\n",
       "    .dataframe tbody tr th:only-of-type {\n",
       "        vertical-align: middle;\n",
       "    }\n",
       "\n",
       "    .dataframe tbody tr th {\n",
       "        vertical-align: top;\n",
       "    }\n",
       "\n",
       "    .dataframe thead th {\n",
       "        text-align: right;\n",
       "    }\n",
       "</style>\n",
       "<table border=\"1\" class=\"dataframe\">\n",
       "  <thead>\n",
       "    <tr style=\"text-align: right;\">\n",
       "      <th></th>\n",
       "      <th>name</th>\n",
       "      <th>path</th>\n",
       "    </tr>\n",
       "  </thead>\n",
       "  <tbody>\n",
       "    <tr>\n",
       "      <th>0</th>\n",
       "      <td>German Khan</td>\n",
       "      <td>/Users/Viktoryia/Documents/gb/computer_vision/...</td>\n",
       "    </tr>\n",
       "    <tr>\n",
       "      <th>1</th>\n",
       "      <td>Stefano Gabbana</td>\n",
       "      <td>/Users/Viktoryia/Documents/gb/computer_vision/...</td>\n",
       "    </tr>\n",
       "    <tr>\n",
       "      <th>2</th>\n",
       "      <td>Dragan Covic</td>\n",
       "      <td>/Users/Viktoryia/Documents/gb/computer_vision/...</td>\n",
       "    </tr>\n",
       "    <tr>\n",
       "      <th>3</th>\n",
       "      <td>Jeff Hornacek</td>\n",
       "      <td>/Users/Viktoryia/Documents/gb/computer_vision/...</td>\n",
       "    </tr>\n",
       "    <tr>\n",
       "      <th>4</th>\n",
       "      <td>Sureyya Ayhan</td>\n",
       "      <td>/Users/Viktoryia/Documents/gb/computer_vision/...</td>\n",
       "    </tr>\n",
       "  </tbody>\n",
       "</table>\n",
       "</div>"
      ],
      "text/plain": [
       "              name                                               path\n",
       "0      German Khan  /Users/Viktoryia/Documents/gb/computer_vision/...\n",
       "1  Stefano Gabbana  /Users/Viktoryia/Documents/gb/computer_vision/...\n",
       "2     Dragan Covic  /Users/Viktoryia/Documents/gb/computer_vision/...\n",
       "3    Jeff Hornacek  /Users/Viktoryia/Documents/gb/computer_vision/...\n",
       "4    Sureyya Ayhan  /Users/Viktoryia/Documents/gb/computer_vision/..."
      ]
     },
     "execution_count": 341,
     "metadata": {},
     "output_type": "execute_result"
    }
   ],
   "source": [
    "# собираем датафрейм\n",
    "df = pd.DataFrame({'name':names, 'path':pathes})\n",
    "df.head()   "
   ]
  },
  {
   "cell_type": "code",
   "execution_count": 342,
   "id": "374748e7",
   "metadata": {},
   "outputs": [
    {
     "data": {
      "text/plain": [
       "George W             530\n",
       "Colin Powell         236\n",
       "Tony Blair           144\n",
       "Donald Rumsfeld      121\n",
       "Gerhard Schroeder    109\n",
       "                    ... \n",
       "Jon Stewart            1\n",
       "Jackie Sherrill        1\n",
       "George Murphy          1\n",
       "Bob Hayes              1\n",
       "Michel Minard          1\n",
       "Name: name, Length: 5745, dtype: int64"
      ]
     },
     "execution_count": 342,
     "metadata": {},
     "output_type": "execute_result"
    }
   ],
   "source": [
    "df.name.value_counts()"
   ]
  },
  {
   "cell_type": "code",
   "execution_count": 306,
   "id": "365ea144",
   "metadata": {},
   "outputs": [],
   "source": [
    "copy = image_paths.copy()"
   ]
  },
  {
   "cell_type": "code",
   "execution_count": 343,
   "id": "78f7a0d0",
   "metadata": {},
   "outputs": [
    {
     "data": {
      "text/plain": [
       "<AxesSubplot:>"
      ]
     },
     "execution_count": 343,
     "metadata": {},
     "output_type": "execute_result"
    },
    {
     "data": {
      "image/png": "[encoded data removed]",
      "text/plain": [
       "<Figure size 864x576 with 1 Axes>"
      ]
     },
     "metadata": {
      "needs_background": "light"
     },
     "output_type": "display_data"
    }
   ],
   "source": [
    "plt.figure(figsize=(12, 8))\n",
    "df['name'].value_counts()[:20].plot(kind='bar')"
   ]
  },
  {
   "cell_type": "code",
   "execution_count": 344,
   "id": "6a1355c3",
   "metadata": {},
   "outputs": [],
   "source": [
    "# переводим в категории имена\n",
    "df['number_name'] = LabelEncoder().fit_transform(df['name'])"
   ]
  },
  {
   "cell_type": "code",
   "execution_count": 345,
   "id": "5a6dd04f",
   "metadata": {},
   "outputs": [
    {
     "data": {
      "text/plain": [
       "1876    530\n",
       "1055    236\n",
       "5453    144\n",
       "1411    121\n",
       "1897    109\n",
       "       ... \n",
       "2806      1\n",
       "2286      1\n",
       "1866      1\n",
       "610       1\n",
       "3805      1\n",
       "Name: number_name, Length: 5745, dtype: int64"
      ]
     },
     "execution_count": 345,
     "metadata": {},
     "output_type": "execute_result"
    }
   ],
   "source": [
    "df['number_name'].value_counts()"
   ]
  },
  {
   "cell_type": "code",
   "execution_count": 357,
   "id": "5c96cdcd",
   "metadata": {},
   "outputs": [
    {
     "data": {
      "text/html": [
       "<div>\n",
       "<style scoped>\n",
       "    .dataframe tbody tr th:only-of-type {\n",
       "        vertical-align: middle;\n",
       "    }\n",
       "\n",
       "    .dataframe tbody tr th {\n",
       "        vertical-align: top;\n",
       "    }\n",
       "\n",
       "    .dataframe thead th {\n",
       "        text-align: right;\n",
       "    }\n",
       "</style>\n",
       "<table border=\"1\" class=\"dataframe\">\n",
       "  <thead>\n",
       "    <tr style=\"text-align: right;\">\n",
       "      <th></th>\n",
       "      <th>name</th>\n",
       "      <th>path</th>\n",
       "      <th>number_name</th>\n",
       "    </tr>\n",
       "  </thead>\n",
       "  <tbody>\n",
       "    <tr>\n",
       "      <th>0</th>\n",
       "      <td>German Khan</td>\n",
       "      <td>/Users/Viktoryia/Documents/gb/computer_vision/...</td>\n",
       "      <td>1898</td>\n",
       "    </tr>\n",
       "    <tr>\n",
       "      <th>1</th>\n",
       "      <td>Stefano Gabbana</td>\n",
       "      <td>/Users/Viktoryia/Documents/gb/computer_vision/...</td>\n",
       "      <td>5084</td>\n",
       "    </tr>\n",
       "    <tr>\n",
       "      <th>2</th>\n",
       "      <td>Dragan Covic</td>\n",
       "      <td>/Users/Viktoryia/Documents/gb/computer_vision/...</td>\n",
       "      <td>1441</td>\n",
       "    </tr>\n",
       "    <tr>\n",
       "      <th>3</th>\n",
       "      <td>Jeff Hornacek</td>\n",
       "      <td>/Users/Viktoryia/Documents/gb/computer_vision/...</td>\n",
       "      <td>2488</td>\n",
       "    </tr>\n",
       "    <tr>\n",
       "      <th>4</th>\n",
       "      <td>Sureyya Ayhan</td>\n",
       "      <td>/Users/Viktoryia/Documents/gb/computer_vision/...</td>\n",
       "      <td>5188</td>\n",
       "    </tr>\n",
       "  </tbody>\n",
       "</table>\n",
       "</div>"
      ],
      "text/plain": [
       "              name                                               path  \\\n",
       "0      German Khan  /Users/Viktoryia/Documents/gb/computer_vision/...   \n",
       "1  Stefano Gabbana  /Users/Viktoryia/Documents/gb/computer_vision/...   \n",
       "2     Dragan Covic  /Users/Viktoryia/Documents/gb/computer_vision/...   \n",
       "3    Jeff Hornacek  /Users/Viktoryia/Documents/gb/computer_vision/...   \n",
       "4    Sureyya Ayhan  /Users/Viktoryia/Documents/gb/computer_vision/...   \n",
       "\n",
       "   number_name  \n",
       "0         1898  \n",
       "1         5084  \n",
       "2         1441  \n",
       "3         2488  \n",
       "4         5188  "
      ]
     },
     "execution_count": 357,
     "metadata": {},
     "output_type": "execute_result"
    }
   ],
   "source": [
    "df.head()"
   ]
  },
  {
   "cell_type": "code",
   "execution_count": 346,
   "id": "8dd886d5",
   "metadata": {},
   "outputs": [
    {
     "data": {
      "text/html": [
       "<div>\n",
       "<style scoped>\n",
       "    .dataframe tbody tr th:only-of-type {\n",
       "        vertical-align: middle;\n",
       "    }\n",
       "\n",
       "    .dataframe tbody tr th {\n",
       "        vertical-align: top;\n",
       "    }\n",
       "\n",
       "    .dataframe thead th {\n",
       "        text-align: right;\n",
       "    }\n",
       "</style>\n",
       "<table border=\"1\" class=\"dataframe\">\n",
       "  <thead>\n",
       "    <tr style=\"text-align: right;\">\n",
       "      <th></th>\n",
       "      <th>number_name</th>\n",
       "      <th>num_samples</th>\n",
       "    </tr>\n",
       "  </thead>\n",
       "  <tbody>\n",
       "    <tr>\n",
       "      <th>(George W, 530)</th>\n",
       "      <td>1876</td>\n",
       "      <td>530</td>\n",
       "    </tr>\n",
       "    <tr>\n",
       "      <th>(Colin Powell, 236)</th>\n",
       "      <td>1055</td>\n",
       "      <td>236</td>\n",
       "    </tr>\n",
       "    <tr>\n",
       "      <th>(Tony Blair, 144)</th>\n",
       "      <td>5453</td>\n",
       "      <td>144</td>\n",
       "    </tr>\n",
       "    <tr>\n",
       "      <th>(Donald Rumsfeld, 121)</th>\n",
       "      <td>1411</td>\n",
       "      <td>121</td>\n",
       "    </tr>\n",
       "    <tr>\n",
       "      <th>(Gerhard Schroeder, 109)</th>\n",
       "      <td>1897</td>\n",
       "      <td>109</td>\n",
       "    </tr>\n",
       "    <tr>\n",
       "      <th>(Ariel Sharon, 77)</th>\n",
       "      <td>376</td>\n",
       "      <td>77</td>\n",
       "    </tr>\n",
       "    <tr>\n",
       "      <th>(Hugo Chavez, 71)</th>\n",
       "      <td>2179</td>\n",
       "      <td>71</td>\n",
       "    </tr>\n",
       "    <tr>\n",
       "      <th>(Junichiro Koizumi, 60)</th>\n",
       "      <td>2938</td>\n",
       "      <td>60</td>\n",
       "    </tr>\n",
       "    <tr>\n",
       "      <th>(Jean Chretien, 55)</th>\n",
       "      <td>2458</td>\n",
       "      <td>55</td>\n",
       "    </tr>\n",
       "    <tr>\n",
       "      <th>(John Ashcroft, 53)</th>\n",
       "      <td>2686</td>\n",
       "      <td>53</td>\n",
       "    </tr>\n",
       "  </tbody>\n",
       "</table>\n",
       "</div>"
      ],
      "text/plain": [
       "                          number_name  num_samples\n",
       "(George W, 530)                  1876          530\n",
       "(Colin Powell, 236)              1055          236\n",
       "(Tony Blair, 144)                5453          144\n",
       "(Donald Rumsfeld, 121)           1411          121\n",
       "(Gerhard Schroeder, 109)         1897          109\n",
       "(Ariel Sharon, 77)                376           77\n",
       "(Hugo Chavez, 71)                2179           71\n",
       "(Junichiro Koizumi, 60)          2938           60\n",
       "(Jean Chretien, 55)              2458           55\n",
       "(John Ashcroft, 53)              2686           53"
      ]
     },
     "execution_count": 346,
     "metadata": {},
     "output_type": "execute_result"
    }
   ],
   "source": [
    "name_count = pd.DataFrame(df['number_name'].value_counts().reset_index().values,\n",
    "                          df['name'].value_counts().reset_index().values, columns=['number_name', 'num_samples'])\n",
    "name_count.head(10)"
   ]
  },
  {
   "cell_type": "code",
   "execution_count": 364,
   "id": "c886a13a",
   "metadata": {},
   "outputs": [
    {
     "data": {
      "text/html": [
       "<div>\n",
       "<style scoped>\n",
       "    .dataframe tbody tr th:only-of-type {\n",
       "        vertical-align: middle;\n",
       "    }\n",
       "\n",
       "    .dataframe tbody tr th {\n",
       "        vertical-align: top;\n",
       "    }\n",
       "\n",
       "    .dataframe thead th {\n",
       "        text-align: right;\n",
       "    }\n",
       "</style>\n",
       "<table border=\"1\" class=\"dataframe\">\n",
       "  <thead>\n",
       "    <tr style=\"text-align: right;\">\n",
       "      <th></th>\n",
       "      <th>name</th>\n",
       "      <th>count</th>\n",
       "    </tr>\n",
       "  </thead>\n",
       "  <tbody>\n",
       "    <tr>\n",
       "      <th>0</th>\n",
       "      <td>George W</td>\n",
       "      <td>530</td>\n",
       "    </tr>\n",
       "    <tr>\n",
       "      <th>1</th>\n",
       "      <td>Colin Powell</td>\n",
       "      <td>236</td>\n",
       "    </tr>\n",
       "    <tr>\n",
       "      <th>2</th>\n",
       "      <td>Tony Blair</td>\n",
       "      <td>144</td>\n",
       "    </tr>\n",
       "    <tr>\n",
       "      <th>3</th>\n",
       "      <td>Donald Rumsfeld</td>\n",
       "      <td>121</td>\n",
       "    </tr>\n",
       "    <tr>\n",
       "      <th>4</th>\n",
       "      <td>Gerhard Schroeder</td>\n",
       "      <td>109</td>\n",
       "    </tr>\n",
       "  </tbody>\n",
       "</table>\n",
       "</div>"
      ],
      "text/plain": [
       "                name  count\n",
       "0           George W    530\n",
       "1       Colin Powell    236\n",
       "2         Tony Blair    144\n",
       "3    Donald Rumsfeld    121\n",
       "4  Gerhard Schroeder    109"
      ]
     },
     "execution_count": 364,
     "metadata": {},
     "output_type": "execute_result"
    }
   ],
   "source": [
    "samples = pd.DataFrame(df['name'].value_counts().reset_index())\n",
    "samples.columns = ['name', 'count']\n",
    "samples.head()"
   ]
  },
  {
   "cell_type": "code",
   "execution_count": 367,
   "id": "ad9ccd0e",
   "metadata": {},
   "outputs": [],
   "source": [
    "# добавляем количество фото для фильтрации\n",
    "df = df.merge(samples, on='name')"
   ]
  },
  {
   "cell_type": "code",
   "execution_count": 441,
   "id": "68181e02",
   "metadata": {},
   "outputs": [
    {
     "data": {
      "text/html": [
       "<div>\n",
       "<style scoped>\n",
       "    .dataframe tbody tr th:only-of-type {\n",
       "        vertical-align: middle;\n",
       "    }\n",
       "\n",
       "    .dataframe tbody tr th {\n",
       "        vertical-align: top;\n",
       "    }\n",
       "\n",
       "    .dataframe thead th {\n",
       "        text-align: right;\n",
       "    }\n",
       "</style>\n",
       "<table border=\"1\" class=\"dataframe\">\n",
       "  <thead>\n",
       "    <tr style=\"text-align: right;\">\n",
       "      <th></th>\n",
       "      <th>name</th>\n",
       "      <th>path</th>\n",
       "      <th>number_name</th>\n",
       "      <th>count</th>\n",
       "    </tr>\n",
       "  </thead>\n",
       "  <tbody>\n",
       "    <tr>\n",
       "      <th>2560</th>\n",
       "      <td>Jacques Chirac</td>\n",
       "      <td>/Users/Viktoryia/Documents/gb/computer_vision/...</td>\n",
       "      <td>2293</td>\n",
       "      <td>52</td>\n",
       "    </tr>\n",
       "    <tr>\n",
       "      <th>2561</th>\n",
       "      <td>Jacques Chirac</td>\n",
       "      <td>/Users/Viktoryia/Documents/gb/computer_vision/...</td>\n",
       "      <td>2293</td>\n",
       "      <td>52</td>\n",
       "    </tr>\n",
       "    <tr>\n",
       "      <th>2562</th>\n",
       "      <td>Jacques Chirac</td>\n",
       "      <td>/Users/Viktoryia/Documents/gb/computer_vision/...</td>\n",
       "      <td>2293</td>\n",
       "      <td>52</td>\n",
       "    </tr>\n",
       "    <tr>\n",
       "      <th>2563</th>\n",
       "      <td>Jacques Chirac</td>\n",
       "      <td>/Users/Viktoryia/Documents/gb/computer_vision/...</td>\n",
       "      <td>2293</td>\n",
       "      <td>52</td>\n",
       "    </tr>\n",
       "    <tr>\n",
       "      <th>2564</th>\n",
       "      <td>Jacques Chirac</td>\n",
       "      <td>/Users/Viktoryia/Documents/gb/computer_vision/...</td>\n",
       "      <td>2293</td>\n",
       "      <td>52</td>\n",
       "    </tr>\n",
       "  </tbody>\n",
       "</table>\n",
       "</div>"
      ],
      "text/plain": [
       "                name                                               path  \\\n",
       "2560  Jacques Chirac  /Users/Viktoryia/Documents/gb/computer_vision/...   \n",
       "2561  Jacques Chirac  /Users/Viktoryia/Documents/gb/computer_vision/...   \n",
       "2562  Jacques Chirac  /Users/Viktoryia/Documents/gb/computer_vision/...   \n",
       "2563  Jacques Chirac  /Users/Viktoryia/Documents/gb/computer_vision/...   \n",
       "2564  Jacques Chirac  /Users/Viktoryia/Documents/gb/computer_vision/...   \n",
       "\n",
       "      number_name  count  \n",
       "2560         2293     52  \n",
       "2561         2293     52  \n",
       "2562         2293     52  \n",
       "2563         2293     52  \n",
       "2564         2293     52  "
      ]
     },
     "execution_count": 441,
     "metadata": {},
     "output_type": "execute_result"
    }
   ],
   "source": [
    "final_df = df.loc[df['count'] > 50]\n",
    "final_df.head()"
   ]
  },
  {
   "cell_type": "code",
   "execution_count": 425,
   "id": "acdf6c21",
   "metadata": {},
   "outputs": [
    {
     "data": {
      "text/html": [
       "<div>\n",
       "<style scoped>\n",
       "    .dataframe tbody tr th:only-of-type {\n",
       "        vertical-align: middle;\n",
       "    }\n",
       "\n",
       "    .dataframe tbody tr th {\n",
       "        vertical-align: top;\n",
       "    }\n",
       "\n",
       "    .dataframe thead th {\n",
       "        text-align: right;\n",
       "    }\n",
       "</style>\n",
       "<table border=\"1\" class=\"dataframe\">\n",
       "  <thead>\n",
       "    <tr style=\"text-align: right;\">\n",
       "      <th></th>\n",
       "      <th>name</th>\n",
       "      <th>path</th>\n",
       "      <th>number_name</th>\n",
       "      <th>count</th>\n",
       "    </tr>\n",
       "  </thead>\n",
       "  <tbody>\n",
       "    <tr>\n",
       "      <th>4816</th>\n",
       "      <td>Luiz Inacio</td>\n",
       "      <td>/Users/Viktoryia/Documents/gb/computer_vision/...</td>\n",
       "      <td>3394</td>\n",
       "      <td>48</td>\n",
       "    </tr>\n",
       "    <tr>\n",
       "      <th>4817</th>\n",
       "      <td>Luiz Inacio</td>\n",
       "      <td>/Users/Viktoryia/Documents/gb/computer_vision/...</td>\n",
       "      <td>3394</td>\n",
       "      <td>48</td>\n",
       "    </tr>\n",
       "    <tr>\n",
       "      <th>4818</th>\n",
       "      <td>Luiz Inacio</td>\n",
       "      <td>/Users/Viktoryia/Documents/gb/computer_vision/...</td>\n",
       "      <td>3394</td>\n",
       "      <td>48</td>\n",
       "    </tr>\n",
       "    <tr>\n",
       "      <th>4819</th>\n",
       "      <td>Luiz Inacio</td>\n",
       "      <td>/Users/Viktoryia/Documents/gb/computer_vision/...</td>\n",
       "      <td>3394</td>\n",
       "      <td>48</td>\n",
       "    </tr>\n",
       "    <tr>\n",
       "      <th>4820</th>\n",
       "      <td>Luiz Inacio</td>\n",
       "      <td>/Users/Viktoryia/Documents/gb/computer_vision/...</td>\n",
       "      <td>3394</td>\n",
       "      <td>48</td>\n",
       "    </tr>\n",
       "  </tbody>\n",
       "</table>\n",
       "</div>"
      ],
      "text/plain": [
       "             name                                               path  \\\n",
       "4816  Luiz Inacio  /Users/Viktoryia/Documents/gb/computer_vision/...   \n",
       "4817  Luiz Inacio  /Users/Viktoryia/Documents/gb/computer_vision/...   \n",
       "4818  Luiz Inacio  /Users/Viktoryia/Documents/gb/computer_vision/...   \n",
       "4819  Luiz Inacio  /Users/Viktoryia/Documents/gb/computer_vision/...   \n",
       "4820  Luiz Inacio  /Users/Viktoryia/Documents/gb/computer_vision/...   \n",
       "\n",
       "      number_name  count  \n",
       "4816         3394     48  \n",
       "4817         3394     48  \n",
       "4818         3394     48  \n",
       "4819         3394     48  \n",
       "4820         3394     48  "
      ]
     },
     "execution_count": 425,
     "metadata": {},
     "output_type": "execute_result"
    }
   ],
   "source": [
    "less_df = df.loc[df['count'] == 48]\n",
    "less_df.head()"
   ]
  },
  {
   "cell_type": "code",
   "execution_count": 426,
   "id": "8a5767c0",
   "metadata": {},
   "outputs": [],
   "source": [
    "#  для теста на незнакомых данных\n",
    "Lui_eval = []\n",
    "for i in less_df.path:\n",
    "    Lui_eval.append(image_preprocessing(i))\n",
    "Lui_eval = tf.convert_to_tensor(Lui_eval)    "
   ]
  },
  {
   "cell_type": "code",
   "execution_count": 369,
   "id": "4c0ad74c",
   "metadata": {},
   "outputs": [
    {
     "data": {
      "text/plain": [
       "(1560, 4)"
      ]
     },
     "execution_count": 369,
     "metadata": {},
     "output_type": "execute_result"
    }
   ],
   "source": [
    "final_df.shape"
   ]
  },
  {
   "cell_type": "code",
   "execution_count": 371,
   "id": "fd4edbe4",
   "metadata": {},
   "outputs": [],
   "source": [
    "y = df.number_name\n",
    "X = df.path\n",
    "X_train, X_test, y_train, y_test = train_test_split(X, y, random_state=42, test_size=0.25)"
   ]
  },
  {
   "cell_type": "code",
   "execution_count": 372,
   "id": "2e176292",
   "metadata": {},
   "outputs": [
    {
     "name": "stdout",
     "output_type": "stream",
     "text": [
      "4293\n"
     ]
    },
    {
     "data": {
      "image/png": "[encoded data removed]",
      "text/plain": [
       "<Figure size 432x288 with 1 Axes>"
      ]
     },
     "metadata": {
      "needs_background": "light"
     },
     "output_type": "display_data"
    }
   ],
   "source": [
    "# проверяем соответствие\n",
    "test = list(zip(X_test, y_test))\n",
    "for X,y in test:\n",
    "    plt.imshow(image_preprocessing(X))\n",
    "    print(y)\n",
    "    break"
   ]
  },
  {
   "cell_type": "code",
   "execution_count": 373,
   "id": "825b4fdd",
   "metadata": {},
   "outputs": [
    {
     "data": {
      "text/html": [
       "<div>\n",
       "<style scoped>\n",
       "    .dataframe tbody tr th:only-of-type {\n",
       "        vertical-align: middle;\n",
       "    }\n",
       "\n",
       "    .dataframe tbody tr th {\n",
       "        vertical-align: top;\n",
       "    }\n",
       "\n",
       "    .dataframe thead th {\n",
       "        text-align: right;\n",
       "    }\n",
       "</style>\n",
       "<table border=\"1\" class=\"dataframe\">\n",
       "  <thead>\n",
       "    <tr style=\"text-align: right;\">\n",
       "      <th></th>\n",
       "      <th>name</th>\n",
       "      <th>path</th>\n",
       "      <th>number_name</th>\n",
       "      <th>count</th>\n",
       "    </tr>\n",
       "  </thead>\n",
       "  <tbody>\n",
       "    <tr>\n",
       "      <th>12148</th>\n",
       "      <td>Paula Zahn</td>\n",
       "      <td>/Users/Viktoryia/Documents/gb/computer_vision/...</td>\n",
       "      <td>4293</td>\n",
       "      <td>2</td>\n",
       "    </tr>\n",
       "    <tr>\n",
       "      <th>12149</th>\n",
       "      <td>Paula Zahn</td>\n",
       "      <td>/Users/Viktoryia/Documents/gb/computer_vision/...</td>\n",
       "      <td>4293</td>\n",
       "      <td>2</td>\n",
       "    </tr>\n",
       "  </tbody>\n",
       "</table>\n",
       "</div>"
      ],
      "text/plain": [
       "             name                                               path  \\\n",
       "12148  Paula Zahn  /Users/Viktoryia/Documents/gb/computer_vision/...   \n",
       "12149  Paula Zahn  /Users/Viktoryia/Documents/gb/computer_vision/...   \n",
       "\n",
       "       number_name  count  \n",
       "12148         4293      2  \n",
       "12149         4293      2  "
      ]
     },
     "execution_count": 373,
     "metadata": {},
     "output_type": "execute_result"
    }
   ],
   "source": [
    "df.loc[df['number_name'] ==4293]"
   ]
  },
  {
   "cell_type": "code",
   "execution_count": 384,
   "id": "401bd3f1",
   "metadata": {},
   "outputs": [],
   "source": [
    "# для теста на занкомых данных\n",
    "George_W_Bush = []\n",
    "Hugo_Chavez = []\n",
    "Tony_Blair = []\n",
    "for (X, y) in test:\n",
    "    if y == 1871:\n",
    "        George_W_Bush.append(image_preprocessing(X))\n",
    "    if y == 2175:\n",
    "         Hugo_Chavez.append(image_preprocessing(X))\n",
    "    if y == 5458:\n",
    "         Tony_Blair.append(image_preprocessing(X))        "
   ]
  },
  {
   "cell_type": "code",
   "execution_count": 389,
   "id": "f80deac1",
   "metadata": {},
   "outputs": [
    {
     "data": {
      "text/plain": [
       "(8, 2, 0)"
      ]
     },
     "execution_count": 389,
     "metadata": {},
     "output_type": "execute_result"
    }
   ],
   "source": [
    "George = tf.convert_to_tensor(George_W_Bush)\n",
    "Hugo = tf.convert_to_tensor(Hugo_Chavez)\n",
    "Tony = tf.convert_to_tensor(Tony_Blair)\n",
    "len(George_W_Bush), len(Hugo), len(Tony)"
   ]
  },
  {
   "cell_type": "code",
   "execution_count": 391,
   "id": "31e71d15",
   "metadata": {},
   "outputs": [
    {
     "data": {
      "text/plain": [
       "TensorShape([250, 250, 3])"
      ]
     },
     "execution_count": 391,
     "metadata": {},
     "output_type": "execute_result"
    }
   ],
   "source": [
    "George[0].shape"
   ]
  },
  {
   "cell_type": "code",
   "execution_count": 377,
   "id": "4a6065a9",
   "metadata": {},
   "outputs": [],
   "source": [
    "def image_preprocessing(link):\n",
    "    img = tf.io.read_file(link)\n",
    "    img = tf.io.decode_jpeg(img, channels=3)\n",
    "    img = tf.cast(img, dtype=tf.float32) / 255\n",
    "    return img      "
   ]
  },
  {
   "cell_type": "code",
   "execution_count": 378,
   "id": "95f2558b",
   "metadata": {},
   "outputs": [],
   "source": [
    "X_ftrain = []\n",
    "for i in X_train:\n",
    "    X_ftrain.append(image_preprocessing(i))       "
   ]
  },
  {
   "cell_type": "code",
   "execution_count": 379,
   "id": "4bdf307b",
   "metadata": {},
   "outputs": [],
   "source": [
    "X_ftrain = tf.convert_to_tensor(X_ftrain)"
   ]
  },
  {
   "cell_type": "code",
   "execution_count": 380,
   "id": "74b57ff0",
   "metadata": {},
   "outputs": [],
   "source": [
    "MARGIN = 10.0\n",
    "\n",
    "def contastive_loss(embs, labels):\n",
    "    bs = embs.shape[0]\n",
    "    embs1 = embs[:bs//2, :]\n",
    "    embs2 = embs[bs//2:, :]\n",
    "    labels1 = labels[:bs//2]\n",
    "    labels2 = labels[bs//2:]\n",
    "\n",
    "    d2 = tf.reduce_sum(tf.square(embs1 - embs2), axis=1)\n",
    "    d =  tf.sqrt(d2)\n",
    "    z = tf.cast(labels1 == labels2, tf.float32)\n",
    "    \n",
    "    return tf.reduce_mean(z * d2 + (1-z) * tf.maximum(0, MARGIN - d)**2)"
   ]
  },
  {
   "cell_type": "code",
   "execution_count": 381,
   "id": "6bab343d",
   "metadata": {},
   "outputs": [],
   "source": [
    "EMB_SIZE = 64\n",
    "\n",
    "model = tf.keras.models.Sequential([\n",
    "    tf.keras.layers.Conv2D(32, (5, 5), padding='same', activation='relu'),\n",
    "    tf.keras.layers.MaxPool2D((2, 2), (2, 2)),\n",
    "    tf.keras.layers.Conv2D(64, (5, 5), padding='same', activation='relu'),\n",
    "    tf.keras.layers.MaxPool2D((2, 2), (2, 2)),\n",
    "    tf.keras.layers.Flatten(),\n",
    "    tf.keras.layers.Dense(256, activation='relu'),\n",
    "    tf.keras.layers.Dropout(0.5),\n",
    "    tf.keras.layers.Dense(EMB_SIZE, activation=None),\n",
    "])"
   ]
  },
  {
   "cell_type": "code",
   "execution_count": 395,
   "id": "e4974cdc",
   "metadata": {},
   "outputs": [],
   "source": [
    "BATCH_SIZE = 64\n",
    "NUM_EPOCHS = 3\n",
    "\n",
    "train_ds = tf.data.Dataset.from_tensor_slices((X_ftrain, y_train))\n",
    "train_ds = train_ds.shuffle(buffer_size=X_ftrain.shape[0])\n",
    "#train_ds = train_ds.repeat(NUM_EPOCHS)\n",
    "train_ds = train_ds.batch(BATCH_SIZE)\n",
    "\n",
    "test_ds = tf.data.Dataset.from_tensor_slices((X_ftest, y_test))\n",
    "test_ds = test_ds.batch(BATCH_SIZE)"
   ]
  },
  {
   "cell_type": "code",
   "execution_count": 396,
   "id": "5efedd39",
   "metadata": {},
   "outputs": [],
   "source": [
    "LEARNING_RATE = 0.001\n",
    "optimizer = tf.keras.optimizers.Adam(LEARNING_RATE)"
   ]
  },
  {
   "cell_type": "code",
   "execution_count": 397,
   "id": "0f38bdc5",
   "metadata": {},
   "outputs": [
    {
     "name": "stderr",
     "output_type": "stream",
     "text": [
      "2022-09-25 18:49:52.253017: I tensorflow/core/kernels/data/shuffle_dataset_op.cc:390] Filling up shuffle buffer (this may take a while): 1990 of 9924\n",
      "2022-09-25 18:50:01.744044: I tensorflow/core/kernels/data/shuffle_dataset_op.cc:390] Filling up shuffle buffer (this may take a while): 2755 of 9924\n",
      "2022-09-25 18:50:11.740253: I tensorflow/core/kernels/data/shuffle_dataset_op.cc:390] Filling up shuffle buffer (this may take a while): 3722 of 9924\n",
      "2022-09-25 18:50:21.775351: I tensorflow/core/kernels/data/shuffle_dataset_op.cc:390] Filling up shuffle buffer (this may take a while): 4608 of 9924\n",
      "2022-09-25 18:50:31.752907: I tensorflow/core/kernels/data/shuffle_dataset_op.cc:390] Filling up shuffle buffer (this may take a while): 5287 of 9924\n",
      "2022-09-25 18:50:41.739632: I tensorflow/core/kernels/data/shuffle_dataset_op.cc:390] Filling up shuffle buffer (this may take a while): 6034 of 9924\n",
      "2022-09-25 18:50:51.741425: I tensorflow/core/kernels/data/shuffle_dataset_op.cc:390] Filling up shuffle buffer (this may take a while): 6607 of 9924\n",
      "2022-09-25 18:51:01.747513: I tensorflow/core/kernels/data/shuffle_dataset_op.cc:390] Filling up shuffle buffer (this may take a while): 7270 of 9924\n",
      "2022-09-25 18:51:11.739638: I tensorflow/core/kernels/data/shuffle_dataset_op.cc:390] Filling up shuffle buffer (this may take a while): 7952 of 9924\n",
      "2022-09-25 18:51:21.740230: I tensorflow/core/kernels/data/shuffle_dataset_op.cc:390] Filling up shuffle buffer (this may take a while): 8608 of 9924\n",
      "2022-09-25 18:51:31.739770: I tensorflow/core/kernels/data/shuffle_dataset_op.cc:390] Filling up shuffle buffer (this may take a while): 9914 of 9924\n",
      "2022-09-25 18:51:31.771152: I tensorflow/core/kernels/data/shuffle_dataset_op.cc:415] Shuffle buffer filled.\n"
     ]
    },
    {
     "name": "stdout",
     "output_type": "stream",
     "text": [
      "[0] Loss: 90.28113555908203\n",
      "CPU times: user 1h 7s, sys: 11min 56s, total: 1h 12min 3s\n",
      "Wall time: 32min 7s\n"
     ]
    }
   ],
   "source": [
    "%%time\n",
    "\n",
    "for iteration, (images, labels) in enumerate(train_ds):\n",
    "    \n",
    "    # Forward\n",
    "    with tf.GradientTape() as tape:\n",
    "        embs = model(images)\n",
    "        loss_value = contastive_loss(embs, labels)\n",
    "        \n",
    "    # Backward\n",
    "    grads = tape.gradient(loss_value, model.variables)\n",
    "    optimizer.apply_gradients(zip(grads, model.variables))\n",
    "\n",
    "    if iteration % 200 == 0:\n",
    "        print('[{}] Loss: {}'.format(iteration, loss_value.numpy()))"
   ]
  },
  {
   "cell_type": "code",
   "execution_count": 398,
   "id": "4ce372d9",
   "metadata": {},
   "outputs": [
    {
     "name": "stderr",
     "output_type": "stream",
     "text": [
      "WARNING:absl:Found untraced functions such as _jit_compiled_convolution_op, _jit_compiled_convolution_op while saving (showing 2 of 2). These functions will not be directly callable after loading.\n"
     ]
    },
    {
     "name": "stdout",
     "output_type": "stream",
     "text": [
      "INFO:tensorflow:Assets written to: ./assets\n"
     ]
    },
    {
     "name": "stderr",
     "output_type": "stream",
     "text": [
      "INFO:tensorflow:Assets written to: ./assets\n"
     ]
    }
   ],
   "source": [
    "model.save('./')"
   ]
  },
  {
   "cell_type": "code",
   "execution_count": 399,
   "id": "ddcfc757",
   "metadata": {},
   "outputs": [
    {
     "name": "stdout",
     "output_type": "stream",
     "text": [
      "WARNING:tensorflow:No training configuration found in save file, so the model was *not* compiled. Compile it manually.\n"
     ]
    },
    {
     "name": "stderr",
     "output_type": "stream",
     "text": [
      "WARNING:tensorflow:No training configuration found in save file, so the model was *not* compiled. Compile it manually.\n"
     ]
    }
   ],
   "source": [
    "new_model = tf.keras.models.load_model('/Users/Viktoryia/Documents/gb/computer_vision')"
   ]
  },
  {
   "cell_type": "code",
   "execution_count": 400,
   "id": "9239a75e",
   "metadata": {},
   "outputs": [
    {
     "name": "stdout",
     "output_type": "stream",
     "text": [
      "Model: \"sequential_1\"\n",
      "_________________________________________________________________\n",
      " Layer (type)                Output Shape              Param #   \n",
      "=================================================================\n",
      " conv2d_2 (Conv2D)           (None, 250, 250, 32)      2432      \n",
      "                                                                 \n",
      " max_pooling2d_2 (MaxPooling  (None, 125, 125, 32)     0         \n",
      " 2D)                                                             \n",
      "                                                                 \n",
      " conv2d_3 (Conv2D)           (None, 125, 125, 64)      51264     \n",
      "                                                                 \n",
      " max_pooling2d_3 (MaxPooling  (None, 62, 62, 64)       0         \n",
      " 2D)                                                             \n",
      "                                                                 \n",
      " flatten_1 (Flatten)         (None, 246016)            0         \n",
      "                                                                 \n",
      " dense_2 (Dense)             (None, 256)               62980352  \n",
      "                                                                 \n",
      " dropout_1 (Dropout)         (None, 256)               0         \n",
      "                                                                 \n",
      " dense_3 (Dense)             (None, 64)                16448     \n",
      "                                                                 \n",
      "=================================================================\n",
      "Total params: 63,050,496\n",
      "Trainable params: 63,050,496\n",
      "Non-trainable params: 0\n",
      "_________________________________________________________________\n"
     ]
    }
   ],
   "source": [
    "new_model.summary()"
   ]
  },
  {
   "cell_type": "code",
   "execution_count": 404,
   "id": "67599524",
   "metadata": {},
   "outputs": [
    {
     "name": "stdout",
     "output_type": "stream",
     "text": [
      "1/1 [==============================] - 0s 271ms/step\n",
      "1/1 [==============================] - 0s 95ms/step\n"
     ]
    }
   ],
   "source": [
    "G_prediction = new_model.predict(George)\n",
    "H_prediction = new_model.predict(Hugo)"
   ]
  },
  {
   "cell_type": "code",
   "execution_count": 405,
   "id": "c96a3c15",
   "metadata": {},
   "outputs": [
    {
     "data": {
      "text/plain": [
       "(8, 2)"
      ]
     },
     "execution_count": 405,
     "metadata": {},
     "output_type": "execute_result"
    }
   ],
   "source": [
    "len(G_prediction), len(H_prediction)"
   ]
  },
  {
   "cell_type": "code",
   "execution_count": 440,
   "id": "f11484d9",
   "metadata": {},
   "outputs": [
    {
     "name": "stdout",
     "output_type": "stream",
     "text": [
      "G_1 <-> G_2:  13.821411020148798\n",
      "G_2 <-> H_1:  31.587998286409153\n",
      "G_1 <-> H1:  34.9545236784302\n"
     ]
    }
   ],
   "source": [
    "#недообучение страшное, но ресурсы малы(\n",
    "def diff(e1, e2):\n",
    "    return np.sum((e1 - e2)**2) ** 0.5\n",
    "# знакомые данные\n",
    "G_1  = G_prediction[4]\n",
    "G_2  = G_prediction[5]\n",
    "H_1  = H_prediction[1]\n",
    "\n",
    "print('G_1 <-> G_2: ', diff(G_1, G_2))\n",
    "print('G_2 <-> H_1: ', diff(G_2, H_1))\n",
    "print('G_1 <-> H1: ', diff(G_1, H_1))"
   ]
  },
  {
   "cell_type": "code",
   "execution_count": 427,
   "id": "aedcd91d",
   "metadata": {},
   "outputs": [
    {
     "name": "stdout",
     "output_type": "stream",
     "text": [
      "2/2 [==============================] - 2s 510ms/step\n"
     ]
    }
   ],
   "source": [
    "# Незнакомые данные\n",
    "L_prediction = new_model.predict(Lui_eval)"
   ]
  },
  {
   "cell_type": "code",
   "execution_count": 438,
   "id": "8fc404cc",
   "metadata": {},
   "outputs": [
    {
     "name": "stdout",
     "output_type": "stream",
     "text": [
      "G_1 <-> G_2:  13.821411020148798\n",
      "G_2 <-> L_1:  34.44988292569004\n",
      "G_1 <-> L1:  42.35178227553195\n"
     ]
    }
   ],
   "source": [
    "G_1  = G_prediction[4]\n",
    "G_2  = G_prediction[5]\n",
    "L_1  = L_prediction[3]\n",
    "\n",
    "print('G_1 <-> G_2: ', diff(G_1, G_2))\n",
    "print('G_2 <-> L_1: ', diff(G_2, L_1))\n",
    "print('G_1 <-> L1: ', diff(G_1, L_1))"
   ]
  },
  {
   "cell_type": "code",
   "execution_count": null,
   "id": "a5c56ad6",
   "metadata": {},
   "outputs": [],
   "source": []
  }
 ],
 "metadata": {
  "kernelspec": {
   "display_name": "Python 3 (ipykernel)",
   "language": "python",
   "name": "python3"
  },
  "language_info": {
   "codemirror_mode": {
    "name": "ipython",
    "version": 3
   },
   "file_extension": ".py",
   "mimetype": "text/x-python",
   "name": "python",
   "nbconvert_exporter": "python",
   "pygments_lexer": "ipython3",
   "version": "3.9.2"
  }
 },
 "nbformat": 4,
 "nbformat_minor": 5
}
